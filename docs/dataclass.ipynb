{
  "cells": [
    {
      "cell_type": "markdown",
      "metadata": {
        "id": "MkL0cphPBulA"
      },
      "source": [
        "# Visu3d - DataclassArray (go/v3d-dataclass)\n",
        "\n",
        "If you're new to v3d, please look at [intro](intro.ipynb) first.\n",
        "\n",
        "`v3d` was designed to be extensible and allow you to:\n",
        "* Create your custom primitives\n",
        "* Integrate your custom primitives with the rest of `v3d`\n",
        "\n",
        "As more people share their custom primitives, you can pick \u0026 choose existing primitives (camera models, COLMAP visualization,...) and compose them with your custom ones.\n"
      ]
    },
    {
      "cell_type": "markdown",
      "metadata": {
        "id": "3mbSSNYZGnJU"
      },
      "source": [
        "## Installation\n",
        "\n",
        "We use same installation/imports as in the [intro](intro.ipynb)."
      ]
    },
    {
      "cell_type": "code",
      "execution_count": 1,
      "metadata": {
        "executionInfo": {
          "elapsed": 58,
          "status": "ok",
          "timestamp": 1660035227906,
          "user": {
            "displayName": "",
            "userId": ""
          },
          "user_tz": -120
        },
        "id": "FSo3BJETGmiT",
        "outputId": "eba4f7be-a63f-4fec-bce7-f27b6395018b"
      },
      "outputs": [
        {
          "name": "stdout",
          "output_type": "stream",
          "text": [
            "/bin/sh: line 1: pip: command not found\n"
          ]
        }
      ],
      "source": [
        "!pip install visu3d etils[ecolab] jax[cpu] tf-nightly tfds-nightly sunds"
      ]
    },
    {
      "cell_type": "code",
      "execution_count": 1,
      "metadata": {
        "executionInfo": {
          "elapsed": 14050,
          "status": "ok",
          "timestamp": 1660037727636,
          "user": {
            "displayName": "",
            "userId": ""
          },
          "user_tz": -120
        },
        "id": "5400vBsmGtT0"
      },
      "outputs": [],
      "source": [
        "from __future__ import annotations\n",
        "from etils.ecolab.lazy_imports import *"
      ]
    },
    {
      "cell_type": "markdown",
      "metadata": {
        "id": "OdMwcDXj9CsP"
      },
      "source": [
        "Without `lazy_imports`, explicits imports are:\n",
        "\n",
        "```python\n",
        "import dataclass_array as dca\n",
        "import visu3d as v3d\n",
        "```\n"
      ]
    },
    {
      "cell_type": "markdown",
      "metadata": {
        "id": "C9XJREDrCPTG"
      },
      "source": [
        "## DataclassArray API\n"
      ]
    },
    {
      "cell_type": "markdown",
      "metadata": {
        "id": "OunX_u5WnrZ3"
      },
      "source": [
        "### `dca.DataclassArray`\n",
        "\n",
        "With [`dataclass_array`](https://github.com/google-research/dataclass_array) module, you can augment any `@dataclasses.dataclass` to make them behave like an array (with slicing, reshaping,...).\n",
        "\n",
        "For this:\n",
        "\n",
        "* Inherit from `dca.DataclassArray`\n",
        "* Use [`etils.array_types`](https://github.com/google/etils/blob/main/etils/array_types/README.md) to annotate your array fields (or explicitly use `dca.field(shape=, dtype=)` instead of `dataclasses.field`"
      ]
    },
    {
      "cell_type": "code",
      "execution_count": 3,
      "metadata": {
        "executionInfo": {
          "elapsed": 53,
          "status": "ok",
          "timestamp": 1660037730295,
          "user": {
            "displayName": "",
            "userId": ""
          },
          "user_tz": -120
        },
        "id": "cLMdOLzWEYAL"
      },
      "outputs": [],
      "source": [
        "from etils.array_types import FloatArray\n",
        "\n",
        "class MyRay(dca.DataclassArray):\n",
        "  pos: FloatArray[..., 3]\n",
        "  dir: FloatArray[..., 3]"
      ]
    },
    {
      "cell_type": "markdown",
      "metadata": {
        "id": "TzH571sOpYpg"
      },
      "source": [
        "Note: Once [PEP 681 – Data Class Transforms](https://peps.python.org/pep-0681/) is supported by pytype, `@dataclasses.dataclass(frozen=True)` won't be required anymore.\n",
        "\n",
        "`dca.DataclassArray` provides:\n",
        "\n",
        "* All slicing/reshape (including einops support) operations\n",
        "* TensorFlow/Jax/Numpy conversions"
      ]
    },
    {
      "cell_type": "code",
      "execution_count": 4,
      "metadata": {
        "executionInfo": {
          "elapsed": 306,
          "status": "ok",
          "timestamp": 1660037732334,
          "user": {
            "displayName": "",
            "userId": ""
          },
          "user_tz": -120
        },
        "id": "WDIwcI7EpY0K",
        "outputId": "fa1ada1e-b81d-4c5a-f06c-5c78ee00a724"
      },
      "outputs": [
        {
          "data": {
            "text/plain": [
              "(3,)"
            ]
          },
          "execution_count": 4,
          "metadata": {},
          "output_type": "execute_result"
        }
      ],
      "source": [
        "ray = MyRay(pos=[0, 0, 0], dir=[1, 1, 1])\n",
        "\n",
        "# Slicing, reshape ops\n",
        "ray = ray.broadcast_to((2, 3))\n",
        "ray = ray.reshape('h w -\u003e w h')\n",
        "ray = ray[..., 0]\n",
        "\n",
        "# TensorFlow/Jax/Numpy conversions\n",
        "ray = ray.as_jax()\n",
        "\n",
        "ray.shape"
      ]
    },
    {
      "cell_type": "markdown",
      "metadata": {
        "id": "lzDzozElYq-e"
      },
      "source": [
        "dataclass array fields are not restricted to `xnp.Array` but can also be:\n",
        "\n",
        "* `dca.DataclassArray` for nested dataclasses\n",
        "* Static fields, which won't be batched"
      ]
    },
    {
      "cell_type": "code",
      "execution_count": 5,
      "metadata": {
        "colab": {
          "height": 35
        },
        "executionInfo": {
          "elapsed": 56,
          "status": "ok",
          "timestamp": 1660037734103,
          "user": {
            "displayName": "",
            "userId": ""
          },
          "user_tz": -120
        },
        "id": "JMvH3L7Cow1e",
        "outputId": "90d622e1-4d97-4239-ae02-488c1bb4c246"
      },
      "outputs": [
        {
          "data": {
            "application/vnd.google.colaboratory.intrinsic+json": {
              "type": "string"
            },
            "text/plain": [
              "'some_experiment'"
            ]
          },
          "execution_count": 5,
          "metadata": {},
          "output_type": "execute_result"
        }
      ],
      "source": [
        "class MyScene(dca.DataclassArray):\n",
        "  exepriment_name: str\n",
        "  # TODO(epot): Support `shape=(None,)`\n",
        "  rays: MyRay = dca.field(shape=(3,), dtype=MyRay)\n",
        "\n",
        "\n",
        "scene = MyScene(\n",
        "    exepriment_name='some_experiment',\n",
        "    rays=ray,\n",
        ")\n",
        "scene = scene.broadcast_to((5,))  # duplicate to 5 scenes\n",
        "assert scene.rays.shape == (5, 3)\n",
        "scene.exepriment_name  # Static field is not affected by batching \u0026 cie"
      ]
    },
    {
      "cell_type": "markdown",
      "metadata": {
        "id": "vXERsoeSngHM"
      },
      "source": [
        "### Vectorization\n",
        "\n",
        "`@dca.vectorize_method` allow your dataclass method to automatically support batching:\n",
        "\n",
        "1. Implement method as if `self.shape == ()`\n",
        "2. Decorate the method with `dca.vectorize_method`"
      ]
    },
    {
      "cell_type": "code",
      "execution_count": 6,
      "metadata": {
        "executionInfo": {
          "elapsed": 53,
          "status": "ok",
          "timestamp": 1660037735551,
          "user": {
            "displayName": "",
            "userId": ""
          },
          "user_tz": -120
        },
        "id": "PGNlYbG89XpI",
        "outputId": "0af8e048-76b9-435f-911d-40b104108377"
      },
      "outputs": [
        {
          "data": {
            "text/plain": [
              "(5, 6)"
            ]
          },
          "execution_count": 6,
          "metadata": {},
          "output_type": "execute_result"
        }
      ],
      "source": [
        "class MyRay(dca.DataclassArray):\n",
        "  pos: FloatArray[..., 3]\n",
        "  dir: FloatArray[..., 3]\n",
        "\n",
        "  @dca.vectorize_method\n",
        "  def get_xyz(self):\n",
        "    # Inside `@dca.vectorize_method` shape is always guarantee to be `()`\n",
        "    assert self.shape == ()\n",
        "    assert self.pos.shape == (3,)\n",
        "\n",
        "    x, y, z = self.pos\n",
        "    return x, y, z\n",
        "\n",
        "\n",
        "ray = MyRay(pos=np.zeros((5, 6, 3)), dir=np.ones((5, 6, 3)))\n",
        "x, y, z = ray.get_xyz()\n",
        "x.shape"
      ]
    },
    {
      "cell_type": "markdown",
      "metadata": {
        "id": "bYmRZ5NNBQqO"
      },
      "source": [
        "`@dca.vectorize_method` is similar to `jax.vmap` but:\n",
        "\n",
        "  * Only work on `dca.DataclassArray` methods\n",
        "  * Instead of vectorizing a single axis, `@dca.vectorize_method` will vectorize\n",
        "    over `*self.shape` (not just `self.shape[0]`). This is like if `vmap`\n",
        "    was applied to `self.flatten()`\n",
        "  * When multiple arguments, axis with dimension `1` are brodcasted.\n",
        "\n",
        "  For example, with `__matmul__(self, x: T) -\u003e T`:\n",
        "\n",
        "  ```python\n",
        "  () @ (*x,) -\u003e (*x,)\n",
        "  (b,) @ (b, *x) -\u003e (b, *x)\n",
        "  (b,) @ (1, *x) -\u003e (b, *x)\n",
        "  (1,) @ (b, *x) -\u003e (b, *x)\n",
        "  (b, h, w) @ (b, h, w, *x) -\u003e (b, h, w, *x)\n",
        "  (1, h, w) @ (b, 1, 1, *x) -\u003e (b, h, w, *x)\n",
        "  (a, *x) @ (b, *x) -\u003e Error: Incompatible a != b\n",
        "  ```"
      ]
    },
    {
      "cell_type": "markdown",
      "metadata": {
        "id": "X4Rvi4OPCGZo"
      },
      "source": [
        "## Support `v3d` features\n",
        "\n",
        "Your custom objects can easilly opt-in to support `v3d` features by implementing the corresponding protocol:\n",
        "\n",
        "* Make your object visualizable (`my_obj.fig`, `v3d.make_fig([my_obj])`): Implement the *visualization protocol*\n",
        "* Make your object compatible with `v3d.Transform` (`cam_from_world @ my_obj`): Implement the *transform protocol*\n",
        "* Make your object compatible with 2d\u003c\u003e3d projection: Implement the *camera projection protocol*\n",
        "* Make your object compatible with `camera.render(my_obj)`: Implement the *rendering protocol*\n"
      ]
    },
    {
      "cell_type": "markdown",
      "metadata": {
        "id": "jgnsvM4YELPG"
      },
      "source": [
        "### Visualization protocol\n",
        "\n",
        "You can make your dataclass visualizable by implementing the protocol:\n",
        "\n",
        "```python\n",
        "def make_traces(self) -\u003e list[\u003cplotly traces\u003e]:\n",
        "```\n",
        "\n",
        "`plotly` traces can be any `go.Scatter3d`, `go.Mesh3d`,...\n",
        "\n",
        "Additionally, inheriting from `v3d.Visualizable` add the `.fig` property. `v3d.DataclassArray` combine just a `dca.DataclassArray` and `v3d.Visualizable`."
      ]
    },
    {
      "cell_type": "code",
      "execution_count": 7,
      "metadata": {
        "colab": {
          "height": 542
        },
        "executionInfo": {
          "elapsed": 384,
          "status": "ok",
          "timestamp": 1660037749731,
          "user": {
            "displayName": "",
            "userId": ""
          },
          "user_tz": -120
        },
        "id": "aE8ayDn-EKvl",
        "outputId": "75350233-9cba-42a9-e8cf-a6586e38d3b0"
      },
      "outputs": [
        {
          "data": {
            "text/html": [
              "\u003chtml\u003e\n",
              "\u003chead\u003e\u003cmeta charset=\"utf-8\" /\u003e\u003c/head\u003e\n",
              "\u003cbody\u003e\n",
              "    \u003cdiv\u003e            \u003cscript src=\"https://cdnjs.cloudflare.com/ajax/libs/mathjax/2.7.5/MathJax.js?config=TeX-AMS-MML_SVG\"\u003e\u003c/script\u003e\u003cscript type=\"text/javascript\"\u003eif (window.MathJax) {MathJax.Hub.Config({SVG: {font: \"STIX-Web\"}});}\u003c/script\u003e                \u003cscript type=\"text/javascript\"\u003ewindow.PlotlyConfig = {MathJaxConfig: 'local'};\u003c/script\u003e\n",
              "        \u003cscript src=\"https://cdn.plot.ly/plotly-latest.min.js\"\u003e\u003c/script\u003e                \u003cdiv id=\"ecb19cd2-76d1-40b6-897d-7ab52029ec00\" class=\"plotly-graph-div\" style=\"height:525px; width:100%;\"\u003e\u003c/div\u003e            \u003cscript type=\"text/javascript\"\u003e                                    window.PLOTLYENV=window.PLOTLYENV || {};                                    if (document.getElementById(\"ecb19cd2-76d1-40b6-897d-7ab52029ec00\")) {                    Plotly.newPlot(                        \"ecb19cd2-76d1-40b6-897d-7ab52029ec00\",                        [{\"legendgroup\": \"MyRay 0\", \"marker\": {\"size\": [0, 6, 0], \"symbol\": \"diamond\"}, \"mode\": \"lines+markers\", \"name\": \"MyRay 0\", \"showlegend\": false, \"type\": \"scatter3d\", \"x\": [0.0, -1.0, null], \"y\": [0.0, 1.0, null], \"z\": [0.0, 1.0, null]}, {\"marker\": {\"color\": \"rgba(0, 0, 0, 0.0)\", \"size\": 0.01}, \"showlegend\": false, \"type\": \"scatter3d\", \"x\": [0], \"y\": [0], \"z\": [0]}],                        {\"legend\": {\"y\": 0.96}, \"margin\": {\"b\": 0, \"l\": 0, \"r\": 0, \"t\": 0}, \"scene\": {\"aspectmode\": \"data\"}, \"template\": {\"data\": {\"bar\": [{\"error_x\": {\"color\": \"#2a3f5f\"}, \"error_y\": {\"color\": \"#2a3f5f\"}, \"marker\": {\"line\": {\"color\": \"#E5ECF6\", \"width\": 0.5}}, \"type\": \"bar\"}], \"barpolar\": [{\"marker\": {\"line\": {\"color\": \"#E5ECF6\", \"width\": 0.5}}, \"type\": \"barpolar\"}], \"carpet\": [{\"aaxis\": {\"endlinecolor\": \"#2a3f5f\", \"gridcolor\": \"white\", \"linecolor\": \"white\", \"minorgridcolor\": \"white\", \"startlinecolor\": \"#2a3f5f\"}, \"baxis\": {\"endlinecolor\": \"#2a3f5f\", \"gridcolor\": \"white\", \"linecolor\": \"white\", \"minorgridcolor\": \"white\", \"startlinecolor\": \"#2a3f5f\"}, \"type\": \"carpet\"}], \"choropleth\": [{\"colorbar\": {\"outlinewidth\": 0, \"ticks\": \"\"}, \"type\": \"choropleth\"}], \"contour\": [{\"colorbar\": {\"outlinewidth\": 0, \"ticks\": \"\"}, \"colorscale\": [[0.0, \"#0d0887\"], [0.1111111111111111, \"#46039f\"], [0.2222222222222222, \"#7201a8\"], [0.3333333333333333, \"#9c179e\"], [0.4444444444444444, \"#bd3786\"], [0.5555555555555556, \"#d8576b\"], [0.6666666666666666, \"#ed7953\"], [0.7777777777777778, \"#fb9f3a\"], [0.8888888888888888, \"#fdca26\"], [1.0, \"#f0f921\"]], \"type\": \"contour\"}], \"contourcarpet\": [{\"colorbar\": {\"outlinewidth\": 0, \"ticks\": \"\"}, \"type\": \"contourcarpet\"}], \"heatmap\": [{\"colorbar\": {\"outlinewidth\": 0, \"ticks\": \"\"}, \"colorscale\": [[0.0, \"#0d0887\"], [0.1111111111111111, \"#46039f\"], [0.2222222222222222, \"#7201a8\"], [0.3333333333333333, \"#9c179e\"], [0.4444444444444444, \"#bd3786\"], [0.5555555555555556, \"#d8576b\"], [0.6666666666666666, \"#ed7953\"], [0.7777777777777778, \"#fb9f3a\"], [0.8888888888888888, \"#fdca26\"], [1.0, \"#f0f921\"]], \"type\": \"heatmap\"}], \"heatmapgl\": [{\"colorbar\": {\"outlinewidth\": 0, \"ticks\": \"\"}, \"colorscale\": [[0.0, \"#0d0887\"], [0.1111111111111111, \"#46039f\"], [0.2222222222222222, \"#7201a8\"], [0.3333333333333333, \"#9c179e\"], [0.4444444444444444, \"#bd3786\"], [0.5555555555555556, \"#d8576b\"], [0.6666666666666666, \"#ed7953\"], [0.7777777777777778, \"#fb9f3a\"], [0.8888888888888888, \"#fdca26\"], [1.0, \"#f0f921\"]], \"type\": \"heatmapgl\"}], \"histogram\": [{\"marker\": {\"colorbar\": {\"outlinewidth\": 0, \"ticks\": \"\"}}, \"type\": \"histogram\"}], \"histogram2d\": [{\"colorbar\": {\"outlinewidth\": 0, \"ticks\": \"\"}, \"colorscale\": [[0.0, \"#0d0887\"], [0.1111111111111111, \"#46039f\"], [0.2222222222222222, \"#7201a8\"], [0.3333333333333333, \"#9c179e\"], [0.4444444444444444, \"#bd3786\"], [0.5555555555555556, \"#d8576b\"], [0.6666666666666666, \"#ed7953\"], [0.7777777777777778, \"#fb9f3a\"], [0.8888888888888888, \"#fdca26\"], [1.0, \"#f0f921\"]], \"type\": \"histogram2d\"}], \"histogram2dcontour\": [{\"colorbar\": {\"outlinewidth\": 0, \"ticks\": \"\"}, \"colorscale\": [[0.0, \"#0d0887\"], [0.1111111111111111, \"#46039f\"], [0.2222222222222222, \"#7201a8\"], [0.3333333333333333, \"#9c179e\"], [0.4444444444444444, \"#bd3786\"], [0.5555555555555556, \"#d8576b\"], [0.6666666666666666, \"#ed7953\"], [0.7777777777777778, \"#fb9f3a\"], [0.8888888888888888, \"#fdca26\"], [1.0, \"#f0f921\"]], \"type\": \"histogram2dcontour\"}], \"mesh3d\": [{\"colorbar\": {\"outlinewidth\": 0, \"ticks\": \"\"}, \"type\": \"mesh3d\"}], \"parcoords\": [{\"line\": {\"colorbar\": {\"outlinewidth\": 0, \"ticks\": \"\"}}, \"type\": \"parcoords\"}], \"pie\": [{\"automargin\": true, \"type\": \"pie\"}], \"scatter\": [{\"marker\": {\"colorbar\": {\"outlinewidth\": 0, \"ticks\": \"\"}}, \"type\": \"scatter\"}], \"scatter3d\": [{\"line\": {\"colorbar\": {\"outlinewidth\": 0, \"ticks\": \"\"}}, \"marker\": {\"colorbar\": {\"outlinewidth\": 0, \"ticks\": \"\"}}, \"type\": \"scatter3d\"}], \"scattercarpet\": [{\"marker\": {\"colorbar\": {\"outlinewidth\": 0, \"ticks\": \"\"}}, \"type\": \"scattercarpet\"}], \"scattergeo\": [{\"marker\": {\"colorbar\": {\"outlinewidth\": 0, \"ticks\": \"\"}}, \"type\": \"scattergeo\"}], \"scattergl\": [{\"marker\": {\"colorbar\": {\"outlinewidth\": 0, \"ticks\": \"\"}}, \"type\": \"scattergl\"}], \"scattermapbox\": [{\"marker\": {\"colorbar\": {\"outlinewidth\": 0, \"ticks\": \"\"}}, \"type\": \"scattermapbox\"}], \"scatterpolar\": [{\"marker\": {\"colorbar\": {\"outlinewidth\": 0, \"ticks\": \"\"}}, \"type\": \"scatterpolar\"}], \"scatterpolargl\": [{\"marker\": {\"colorbar\": {\"outlinewidth\": 0, \"ticks\": \"\"}}, \"type\": \"scatterpolargl\"}], \"scatterternary\": [{\"marker\": {\"colorbar\": {\"outlinewidth\": 0, \"ticks\": \"\"}}, \"type\": \"scatterternary\"}], \"surface\": [{\"colorbar\": {\"outlinewidth\": 0, \"ticks\": \"\"}, \"colorscale\": [[0.0, \"#0d0887\"], [0.1111111111111111, \"#46039f\"], [0.2222222222222222, \"#7201a8\"], [0.3333333333333333, \"#9c179e\"], [0.4444444444444444, \"#bd3786\"], [0.5555555555555556, \"#d8576b\"], [0.6666666666666666, \"#ed7953\"], [0.7777777777777778, \"#fb9f3a\"], [0.8888888888888888, \"#fdca26\"], [1.0, \"#f0f921\"]], \"type\": \"surface\"}], \"table\": [{\"cells\": {\"fill\": {\"color\": \"#EBF0F8\"}, \"line\": {\"color\": \"white\"}}, \"header\": {\"fill\": {\"color\": \"#C8D4E3\"}, \"line\": {\"color\": \"white\"}}, \"type\": \"table\"}]}, \"layout\": {\"annotationdefaults\": {\"arrowcolor\": \"#2a3f5f\", \"arrowhead\": 0, \"arrowwidth\": 1}, \"autotypenumbers\": \"strict\", \"coloraxis\": {\"colorbar\": {\"outlinewidth\": 0, \"ticks\": \"\"}}, \"colorscale\": {\"diverging\": [[0, \"#8e0152\"], [0.1, \"#c51b7d\"], [0.2, \"#de77ae\"], [0.3, \"#f1b6da\"], [0.4, \"#fde0ef\"], [0.5, \"#f7f7f7\"], [0.6, \"#e6f5d0\"], [0.7, \"#b8e186\"], [0.8, \"#7fbc41\"], [0.9, \"#4d9221\"], [1, \"#276419\"]], \"sequential\": [[0.0, \"#0d0887\"], [0.1111111111111111, \"#46039f\"], [0.2222222222222222, \"#7201a8\"], [0.3333333333333333, \"#9c179e\"], [0.4444444444444444, \"#bd3786\"], [0.5555555555555556, \"#d8576b\"], [0.6666666666666666, \"#ed7953\"], [0.7777777777777778, \"#fb9f3a\"], [0.8888888888888888, \"#fdca26\"], [1.0, \"#f0f921\"]], \"sequentialminus\": [[0.0, \"#0d0887\"], [0.1111111111111111, \"#46039f\"], [0.2222222222222222, \"#7201a8\"], [0.3333333333333333, \"#9c179e\"], [0.4444444444444444, \"#bd3786\"], [0.5555555555555556, \"#d8576b\"], [0.6666666666666666, \"#ed7953\"], [0.7777777777777778, \"#fb9f3a\"], [0.8888888888888888, \"#fdca26\"], [1.0, \"#f0f921\"]]}, \"colorway\": [\"#636efa\", \"#EF553B\", \"#00cc96\", \"#ab63fa\", \"#FFA15A\", \"#19d3f3\", \"#FF6692\", \"#B6E880\", \"#FF97FF\", \"#FECB52\"], \"font\": {\"color\": \"#2a3f5f\"}, \"geo\": {\"bgcolor\": \"white\", \"lakecolor\": \"white\", \"landcolor\": \"#E5ECF6\", \"showlakes\": true, \"showland\": true, \"subunitcolor\": \"white\"}, \"hoverlabel\": {\"align\": \"left\"}, \"hovermode\": \"closest\", \"mapbox\": {\"style\": \"light\"}, \"paper_bgcolor\": \"white\", \"plot_bgcolor\": \"#E5ECF6\", \"polar\": {\"angularaxis\": {\"gridcolor\": \"white\", \"linecolor\": \"white\", \"ticks\": \"\"}, \"bgcolor\": \"#E5ECF6\", \"radialaxis\": {\"gridcolor\": \"white\", \"linecolor\": \"white\", \"ticks\": \"\"}}, \"scene\": {\"xaxis\": {\"backgroundcolor\": \"#E5ECF6\", \"gridcolor\": \"white\", \"gridwidth\": 2, \"linecolor\": \"white\", \"showbackground\": true, \"ticks\": \"\", \"zerolinecolor\": \"white\"}, \"yaxis\": {\"backgroundcolor\": \"#E5ECF6\", \"gridcolor\": \"white\", \"gridwidth\": 2, \"linecolor\": \"white\", \"showbackground\": true, \"ticks\": \"\", \"zerolinecolor\": \"white\"}, \"zaxis\": {\"backgroundcolor\": \"#E5ECF6\", \"gridcolor\": \"white\", \"gridwidth\": 2, \"linecolor\": \"white\", \"showbackground\": true, \"ticks\": \"\", \"zerolinecolor\": \"white\"}}, \"shapedefaults\": {\"line\": {\"color\": \"#2a3f5f\"}}, \"ternary\": {\"aaxis\": {\"gridcolor\": \"white\", \"linecolor\": \"white\", \"ticks\": \"\"}, \"baxis\": {\"gridcolor\": \"white\", \"linecolor\": \"white\", \"ticks\": \"\"}, \"bgcolor\": \"#E5ECF6\", \"caxis\": {\"gridcolor\": \"white\", \"linecolor\": \"white\", \"ticks\": \"\"}}, \"title\": {\"x\": 0.05}, \"xaxis\": {\"automargin\": true, \"gridcolor\": \"white\", \"linecolor\": \"white\", \"ticks\": \"\", \"title\": {\"standoff\": 15}, \"zerolinecolor\": \"white\", \"zerolinewidth\": 2}, \"yaxis\": {\"automargin\": true, \"gridcolor\": \"white\", \"linecolor\": \"white\", \"ticks\": \"\", \"title\": {\"standoff\": 15}, \"zerolinecolor\": \"white\", \"zerolinewidth\": 2}}}},                        {\"responsive\": true}                    ).then(function(){\n",
              "                            \n",
              "var gd = document.getElementById('ecb19cd2-76d1-40b6-897d-7ab52029ec00');\n",
              "var x = new MutationObserver(function (mutations, observer) {{\n",
              "        var display = window.getComputedStyle(gd).display;\n",
              "        if (!display || display === 'none') {{\n",
              "            console.log([gd, 'removed!']);\n",
              "            Plotly.purge(gd);\n",
              "            observer.disconnect();\n",
              "        }}\n",
              "}});\n",
              "\n",
              "// Listen for the removal of the full notebook cells\n",
              "var notebookContainer = gd.closest('#notebook-container');\n",
              "if (notebookContainer) {{\n",
              "    x.observe(notebookContainer, {childList: true});\n",
              "}}\n",
              "\n",
              "// Listen for the clearing of the current output cell\n",
              "var outputEl = gd.closest('.output');\n",
              "if (outputEl) {{\n",
              "    x.observe(outputEl, {childList: true});\n",
              "}}\n",
              "\n",
              "                        })                };                            \u003c/script\u003e        \u003c/div\u003e\n",
              "\u003c/body\u003e\n",
              "\u003c/html\u003e"
            ]
          },
          "metadata": {},
          "output_type": "display_data"
        }
      ],
      "source": [
        "class MyRay(dca.DataclassArray, v3d.Visualizable):  # Could inherit from v3d.DataclassArray instead\n",
        "  pos: FloatArray[..., 3]\n",
        "  dir: FloatArray[..., 3]\n",
        "\n",
        "  def make_traces(self) -\u003e list[plotly.basedatatypes.BaseTraceType]:\n",
        "    return v3d.plotly.make_lines_traces(\n",
        "        start=self.pos,\n",
        "        end=self.pos + self.dir,\n",
        "        end_marker='diamond',\n",
        "    )\n",
        "\n",
        "ray = MyRay(pos=[0, 0, 0], dir=[-1, 1, 1])\n",
        "ray.fig"
      ]
    },
    {
      "cell_type": "markdown",
      "metadata": {
        "id": "6GGYIiYde7wN"
      },
      "source": [
        "The `v3d.plotly` module is a small wrapper around `plotly` to simplify building `plotly.graph_object` traces (e.g to subsample with `v3d.plotly.subsample`).\n",
        "\n",
        "Note: You can make any Python object visualizable (not only `dca.DataclassArray`) by inheriting from `v3d.Visualizable`."
      ]
    },
    {
      "cell_type": "markdown",
      "metadata": {
        "id": "zYquD12AELaT"
      },
      "source": [
        "### Transform protocol\n",
        "\n",
        "You can make your dataclass composable with `v3d.Transform` by implementing the protocol:\n",
        "\n",
        "```python\n",
        "def apply_transform(self, tr: v3d.Transform) -\u003e Self:\n",
        "```\n",
        "\n",
        "Which will be called during `tr @ my_obj`.\n",
        "\n",
        "The protocol automatically support vectorization.\n"
      ]
    },
    {
      "cell_type": "code",
      "execution_count": 8,
      "metadata": {
        "executionInfo": {
          "elapsed": 85,
          "status": "ok",
          "timestamp": 1660037778009,
          "user": {
            "displayName": "",
            "userId": ""
          },
          "user_tz": -120
        },
        "id": "xsVWpRC4Eli0",
        "outputId": "67232412-cc98-4762-8e9e-d3e9c5d051ea"
      },
      "outputs": [
        {
          "data": {
            "text/plain": [
              "MyRay(\n",
              "    pos=array([0., 0., 0.]),\n",
              "    dir=array([-1.,  1.,  1.]),\n",
              ")"
            ]
          },
          "execution_count": 8,
          "metadata": {},
          "output_type": "execute_result"
        }
      ],
      "source": [
        "class MyRay(v3d.DataclassArray):\n",
        "  pos: FloatArray[..., 3]\n",
        "  dir: FloatArray[..., 3]\n",
        "\n",
        "  def apply_transform(self, tr: v3d.Transform) -\u003e MyRay:\n",
        "    return self.replace(\n",
        "        pos=tr @ self.pos,\n",
        "        # apply_to_dir apply `tr.R` but not `tr.t`\n",
        "        dir=tr.apply_to_dir(self.dir),\n",
        "    )\n",
        "\n",
        "tr = v3d.Transform.identity()\n",
        "ray = MyRay(pos=[0, 0, 0], dir=[-1, 1, 1])\n",
        "tr @ ray  # Composing with identity is a no-op"
      ]
    },
    {
      "cell_type": "markdown",
      "metadata": {
        "id": "MocwyJdkEl8U"
      },
      "source": [
        "### Camera projection protocol\n",
        "\n",
        "You can make your dataclass support pixel \u003c\u003e camera 3d coordinates projection by implementing the protocols:\n",
        "\n",
        "```python\n",
        "def apply_px_from_cam(self, spec: camera_spec_lib.CameraSpec) -\u003e MyPoint2d:\n",
        "\n",
        "def apply_cam_from_px(self, spec: camera_spec_lib.CameraSpec) -\u003e MyPoint3d:\n",
        "```\n",
        "\n",
        "Look at the [`v3d.Point3d`](https://github.com/google-research/visu3d/tree/main/visu3d/dc_arrays/point.py) implementation for an example."
      ]
    },
    {
      "cell_type": "markdown",
      "metadata": {
        "id": "P86e4MTKELkN"
      },
      "source": [
        "### Rendering protocol\n",
        "\n",
        "Rendering protocol is not supported at the moment. Please open an issue if you need this feature."
      ]
    }
  ],
  "metadata": {
    "colab": {
      "collapsed_sections": [],
      "last_runtime": {
        "build_target": "//learning/deepmind/public/tools/ml_python:ml_notebook",
        "kind": "private"
      },
      "name": "Visu3d - DataclassArray",
      "provenance": [],
      "toc_visible": true
    },
    "kernelspec": {
      "display_name": "Python 3",
      "name": "python3"
    },
    "language_info": {
      "name": "python"
    }
  },
  "nbformat": 4,
  "nbformat_minor": 0
}
